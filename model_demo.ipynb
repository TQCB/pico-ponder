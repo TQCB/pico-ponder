{
 "cells": [
  {
   "cell_type": "code",
   "execution_count": 46,
   "metadata": {},
   "outputs": [],
   "source": [
    "from dotenv import load_dotenv; load_dotenv()\n",
    "import sys, os; sys.path.append(os.getenv('MP'))\n",
    "\n",
    "import pickle\n",
    "import numpy as np\n",
    "import nn"
   ]
  },
  {
   "cell_type": "code",
   "execution_count": 47,
   "metadata": {},
   "outputs": [],
   "source": [
    "with open(r'models/pico_seuss_001/model.pkl', 'rb') as f:\n",
    "  model = pickle.load(f)\n",
    "\n",
    "with open(r'data/word_processors.pkl', 'rb') as f:\n",
    "  tokenizer, vectorizer = pickle.load(f)"
   ]
  },
  {
   "cell_type": "code",
   "execution_count": 99,
   "metadata": {},
   "outputs": [],
   "source": [
    "def prepare_input(input_sentence, target_seq_len):\n",
    "  # Tokenize and vectorize\n",
    "  tokens = tokenizer.transform(input_sentence)\n",
    "  tokens = [' '.join(t).split() for t in tokens]\n",
    "  vectors = vectorizer.transform(tokens)\n",
    "  vectors = np.array(vectors)\n",
    "\n",
    "  # Pad to target seq len\n",
    "  if vectors.shape[-1] < target_seq_len:\n",
    "    pad_width = 16 - vectors[0].shape[0]\n",
    "    vectors = np.pad(vectors, ((0, 0), (0, pad_width)))\n",
    "\n",
    "  # Add batch dimension (batch, doc, seq)\n",
    "  input = vectors[np.newaxis,:,-target_seq_len:]\n",
    "\n",
    "  return input"
   ]
  },
  {
   "cell_type": "code",
   "execution_count": 141,
   "metadata": {},
   "outputs": [],
   "source": [
    "test_text = ['I went to the park and saw a cat. I will go to the fox.']\n",
    "input = prepare_input(test_text, target_seq_len=16)"
   ]
  },
  {
   "cell_type": "code",
   "execution_count": 157,
   "metadata": {},
   "outputs": [],
   "source": [
    "def generate(data, gen_len):\n",
    "  input = data\n",
    "  seq_len = input.shape[-1]\n",
    "\n",
    "  # Create an output of size gen_length + input seq_len\n",
    "  output = np.empty((gen_len + seq_len), dtype=int)\n",
    "  output[:seq_len] = data\n",
    "\n",
    "  for i in range(gen_len):\n",
    "    next_word = np.argmax(model.predict(input)[:,:,1:])+1 # offset to fix the fact we avoid index 0 <UNK>\n",
    "    input[:,:,:seq_len-1] = input[:,:,1:] # shift input by 1\n",
    "    input[:,:,-1] = next_word # add new word to this space\n",
    "    output[i + seq_len] = next_word\n",
    "  return output"
   ]
  },
  {
   "cell_type": "code",
   "execution_count": 167,
   "metadata": {},
   "outputs": [
    {
     "data": {
      "text/plain": [
       "'cat will would cat cat cat cat there there there . some will will saw cat cat will would cat cat cat cat there there there . some will will saw cat cat will would cat'"
      ]
     },
     "execution_count": 167,
     "metadata": {},
     "output_type": "execute_result"
    }
   ],
   "source": [
    "output = generate(input, 20)\n",
    "' '.join(vectorizer.inverse_transform([output])[0])"
   ]
  }
 ],
 "metadata": {
  "kernelspec": {
   "display_name": "scratchnn",
   "language": "python",
   "name": "python3"
  },
  "language_info": {
   "codemirror_mode": {
    "name": "ipython",
    "version": 3
   },
   "file_extension": ".py",
   "mimetype": "text/x-python",
   "name": "python",
   "nbconvert_exporter": "python",
   "pygments_lexer": "ipython3",
   "version": "3.9.20"
  }
 },
 "nbformat": 4,
 "nbformat_minor": 2
}
