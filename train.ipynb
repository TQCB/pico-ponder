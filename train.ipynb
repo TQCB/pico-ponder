{
 "cells": [
  {
   "cell_type": "code",
   "execution_count": 1,
   "metadata": {},
   "outputs": [],
   "source": [
    "import numpy as np\n",
    "import pandas as pd\n",
    "from IPython.display import clear_output\n",
    "\n",
    "import sys\n",
    "sys.path.append(r\"C:\\Users\\rapha\\My Drive\\Work\\data_science\\projects\\scratch_nn\")\n",
    "import nn"
   ]
  },
  {
   "cell_type": "code",
   "execution_count": 2,
   "metadata": {},
   "outputs": [],
   "source": [
    "def sgen(filepath, sep='<|endoftext|>'):\n",
    "  \"\"\"\n",
    "  A generator that yields sentences from a text file.\n",
    "\n",
    "  Args:\n",
    "    filepath: Path to text file\n",
    "    sep: Word that separates sentences\n",
    "  \n",
    "  Yields:\n",
    "    str: Sentences found in the file\n",
    "  \"\"\"\n",
    "  with open(filepath, 'r', encoding='utf-8') as f:\n",
    "    current_sentence = \"\"\n",
    "    for line in f:\n",
    "      for word in line.split(): # split by spaces\n",
    "        if word == sep:\n",
    "          yield current_sentence.strip()\n",
    "          current_sentence = \"\"\n",
    "        else:\n",
    "          current_sentence += \" \" + word\n",
    "    # yield the last sentence, if not ending with sep.\n",
    "    if current_sentence.strip():\n",
    "      yield current_sentence.strip()"
   ]
  },
  {
   "cell_type": "code",
   "execution_count": 3,
   "metadata": {},
   "outputs": [],
   "source": [
    "train_path = r\"C:\\Users\\rapha\\Documents\\datasets\\tiny_stories\\TinyStoriesV2-GPT4-train.txt\"\n",
    "val_path = r\"C:\\Users\\rapha\\Documents\\datasets\\tiny_stories\\TinyStoriesV2-GPT4-valid.txt\""
   ]
  },
  {
   "cell_type": "code",
   "execution_count": 4,
   "metadata": {},
   "outputs": [],
   "source": [
    "# Initialise tokeniser and vectoriser\n",
    "tokenizer = nn.text.BytePairTokenizer(300)\n",
    "vectorizer = nn.text.Vectorizer(300)\n",
    "\n",
    "# Fit tokeniser\n",
    "tokenizer.fit(sgen(val_path))\n",
    "\n",
    "# Get train and val tokens\n",
    "# train_tokens = tokenizer.transform(sgen(train_path))\n",
    "val_tokens = tokenizer.transform(sgen(val_path))\n",
    "v_fit_tokens = tokenizer.transform(sgen(val_path))\n",
    "\n",
    "# Fit vectoriser\n",
    "vectorizer.fit(v_fit_tokens)\n",
    "\n",
    "# Get train and val sequences\n",
    "# train_sequences = vectorizer.transform(train_tokens)\n",
    "val_sequences = vectorizer.transform(val_tokens)"
   ]
  },
  {
   "cell_type": "code",
   "execution_count": 5,
   "metadata": {},
   "outputs": [],
   "source": [
    "def targets_from_sequence(sequence, context_size):\n",
    "  \"\"\"\n",
    "  Constructs n times X, y training data from a sequence. X being our\n",
    "  context_size input,  y the target, and n the amount of targets created from a\n",
    "  sequence (should be equal to len(sequence) - 1, since every word can be a\n",
    "  target except the first)\n",
    "\n",
    "  X is context_size words used to predict context_size + 1 word y\n",
    "\n",
    "  Args:\n",
    "    sequence (array): array of ints, vectorised tokens\n",
    "    context_size (int): length of X for each X, y pair returned\n",
    "  \n",
    "  Returns:\n",
    "    list[(X,y)]: n long list containing tuples of X, y pairs\n",
    "  \"\"\"\n",
    "  target_amount = len(sequence) - 1\n",
    "\n",
    "  # Ensure input in an np.ndarray\n",
    "  sequence = np.array(sequence)\n",
    "\n",
    "  # Result array is a matrix for (n, (X,y))\n",
    "  # n = target_amount, X = context_size, y = 1\n",
    "  result = np.zeros((target_amount, context_size+1))\n",
    "\n",
    "\n",
    "  for i in range(target_amount):\n",
    "    # Get index of context start, unless its negative\n",
    "    idx = i - context_size + 1\n",
    "    context_start = max(0, idx)\n",
    "\n",
    "    # Get sequence and target, ensuring they are arrays\n",
    "    context = sequence[context_start:i+1]\n",
    "    target = np.array(sequence[i+1], ndmin=1)\n",
    "\n",
    "    # If our context is shorter than context size, we will pad context\n",
    "    if context_start == 0:\n",
    "      context = np.pad(context, (0, np.abs(idx)), mode='constant')\n",
    "\n",
    "    result[i,:] = np.concatenate([context, target])\n",
    "    \n",
    "  return result\n",
    "\n",
    "def targets_from_sequences(sequences, context_size):\n",
    "  \"\"\"Calls targets_from_sequences() on a list of sequences\"\"\"\n",
    "  result = []\n",
    "  for sequence in sequences:\n",
    "    result.append(targets_from_sequence(sequence, context_size))\n",
    "  return np.vstack(result)\n"
   ]
  },
  {
   "cell_type": "code",
   "execution_count": 6,
   "metadata": {},
   "outputs": [],
   "source": [
    "# train_data = targets_from_sequences(train_sequences, 64)\n",
    "val_data = targets_from_sequences(val_sequences, 64)\n",
    "val_data = val_data.astype(int)"
   ]
  },
  {
   "cell_type": "code",
   "execution_count": 7,
   "metadata": {},
   "outputs": [],
   "source": [
    "val_save_path = r\"C:\\Users\\rapha\\Documents\\datasets\\tiny_stories\\val_target2.npy\"\n",
    "np.save(val_save_path, val_data)"
   ]
  }
 ],
 "metadata": {
  "kernelspec": {
   "display_name": "scratchnn",
   "language": "python",
   "name": "python3"
  },
  "language_info": {
   "codemirror_mode": {
    "name": "ipython",
    "version": 3
   },
   "file_extension": ".py",
   "mimetype": "text/x-python",
   "name": "python",
   "nbconvert_exporter": "python",
   "pygments_lexer": "ipython3",
   "version": "3.9.20"
  }
 },
 "nbformat": 4,
 "nbformat_minor": 2
}
