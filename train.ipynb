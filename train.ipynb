{
 "cells": [
  {
   "cell_type": "code",
   "execution_count": 1,
   "metadata": {},
   "outputs": [],
   "source": [
    "import numpy as np\n",
    "import pandas as pd\n",
    "from IPython.display import clear_output\n",
    "\n",
    "import sys\n",
    "sys.path.append(r\"C:\\Users\\rapha\\My Drive\\Work\\data_science\\projects\\scratch_nn\")\n",
    "import nn"
   ]
  },
  {
   "cell_type": "code",
   "execution_count": 3,
   "metadata": {},
   "outputs": [],
   "source": [
    "with open(r\"C:\\Users\\rapha\\Documents\\datasets\\tiny_stories\\TinyStoriesV2-GPT4-train.txt\", 'r', encoding='utf-8') as f:\n",
    "  train = f.read()"
   ]
  },
  {
   "cell_type": "code",
   "execution_count": 2,
   "metadata": {},
   "outputs": [],
   "source": [
    "with open(r\"C:\\Users\\rapha\\Documents\\datasets\\tiny_stories\\TinyStoriesV2-GPT4-valid.txt\", 'r', encoding='utf-8') as f:\n",
    "  valid = f.read()"
   ]
  },
  {
   "cell_type": "code",
   "execution_count": 3,
   "metadata": {},
   "outputs": [],
   "source": [
    "def corpus_to_documents(str):\n",
    "  str = str.replace(\"\\\\\",\"\")\n",
    "  docs = str.split(\"<|endoftext|>\")\n",
    "  return docs"
   ]
  },
  {
   "cell_type": "code",
   "execution_count": 4,
   "metadata": {},
   "outputs": [],
   "source": [
    "# train_docs = corpus_to_documents(train)\n",
    "val_docs = corpus_to_documents(valid)"
   ]
  },
  {
   "cell_type": "code",
   "execution_count": 5,
   "metadata": {},
   "outputs": [],
   "source": [
    "test_docs = val_docs[:1000]"
   ]
  },
  {
   "cell_type": "code",
   "execution_count": 6,
   "metadata": {},
   "outputs": [],
   "source": [
    "tokenizer = nn.text.BytePairTokenizer(1000)\n",
    "vectorizer = nn.text.Vectorizer()"
   ]
  },
  {
   "cell_type": "code",
   "execution_count": 7,
   "metadata": {},
   "outputs": [],
   "source": [
    "tokenizer.fit(test_docs)"
   ]
  },
  {
   "cell_type": "code",
   "execution_count": 8,
   "metadata": {},
   "outputs": [
    {
     "ename": "KeyboardInterrupt",
     "evalue": "",
     "output_type": "error",
     "traceback": [
      "\u001b[1;31m---------------------------------------------------------------------------\u001b[0m",
      "\u001b[1;31mKeyboardInterrupt\u001b[0m                         Traceback (most recent call last)",
      "Cell \u001b[1;32mIn[8], line 1\u001b[0m\n\u001b[1;32m----> 1\u001b[0m val_tokens \u001b[38;5;241m=\u001b[39m \u001b[43mtokenizer\u001b[49m\u001b[38;5;241;43m.\u001b[39;49m\u001b[43mtransform2\u001b[49m\u001b[43m(\u001b[49m\u001b[43mtest_docs\u001b[49m\u001b[43m)\u001b[49m\n",
      "File \u001b[1;32m~\\My Drive\\Work\\data_science\\projects\\scratch_nn\\nn\\text.py:102\u001b[0m, in \u001b[0;36mBytePairTokenizer.transform2\u001b[1;34m(self, corpus)\u001b[0m\n\u001b[0;32m    100\u001b[0m matched_length \u001b[38;5;241m=\u001b[39m \u001b[38;5;241m0\u001b[39m\n\u001b[0;32m    101\u001b[0m \u001b[38;5;28;01mfor\u001b[39;00m merge \u001b[38;5;129;01min\u001b[39;00m \u001b[38;5;28mself\u001b[39m\u001b[38;5;241m.\u001b[39mmerges:\n\u001b[1;32m--> 102\u001b[0m     merge_len \u001b[38;5;241m=\u001b[39m \u001b[38;5;28;43mlen\u001b[39;49m\u001b[43m(\u001b[49m\u001b[43mmerge\u001b[49m\u001b[43m)\u001b[49m\n\u001b[0;32m    103\u001b[0m     \u001b[38;5;28;01mif\u001b[39;00m i \u001b[38;5;241m+\u001b[39m merge_len \u001b[38;5;241m<\u001b[39m\u001b[38;5;241m=\u001b[39m \u001b[38;5;28mlen\u001b[39m(tokens) \u001b[38;5;129;01mand\u001b[39;00m \u001b[38;5;28mtuple\u001b[39m(tokens[i:i \u001b[38;5;241m+\u001b[39m merge_len]) \u001b[38;5;241m==\u001b[39m merge:\n\u001b[0;32m    104\u001b[0m         \u001b[38;5;28;01mif\u001b[39;00m merge_len \u001b[38;5;241m>\u001b[39m matched_length:\n",
      "\u001b[1;31mKeyboardInterrupt\u001b[0m: "
     ]
    }
   ],
   "source": [
    "val_tokens = tokenizer.transform2(test_docs)"
   ]
  },
  {
   "cell_type": "code",
   "execution_count": 13,
   "metadata": {},
   "outputs": [],
   "source": [
    "vectorizer.fit(val_tokens)"
   ]
  },
  {
   "cell_type": "code",
   "execution_count": 14,
   "metadata": {},
   "outputs": [],
   "source": [
    "val_sequences = vectorizer.transform(val_tokens)"
   ]
  },
  {
   "cell_type": "code",
   "execution_count": 25,
   "metadata": {},
   "outputs": [
    {
     "data": {
      "text/plain": [
       "[97, 401, 124, 133, 6, 49, 232, 44, 3, 578]"
      ]
     },
     "execution_count": 25,
     "metadata": {},
     "output_type": "execute_result"
    }
   ],
   "source": [
    "val_sequences[0][:10]"
   ]
  },
  {
   "cell_type": "code",
   "execution_count": 8,
   "metadata": {},
   "outputs": [],
   "source": [
    "tokenizer = nn.text.BytePairTokenizer(1000)\n",
    "vectorizer = nn.text.Vectorizer()\n",
    "\n",
    "print(f\"Fitting tokenizer...\")\n",
    "tokenizer.fit(train)\n",
    "print(f\"Tokenizer fit compelte.\")\n",
    "\n",
    "train_tokens = tokenizer.transform(clean_train_docs)\n",
    "val_tokens = tokenizer.transform(clean_val_docs)\n",
    "\n",
    "print(f\"Fitting vectorizer...\")\n",
    "vectorizer.fit(train_tokens)\n",
    "print(f\"Vectorizer fit compelte.\")\n",
    "train_sequences = vectorizer.transform(train_tokens)\n",
    "val_sequences = vectorizer.transform(val_tokens)"
   ]
  },
  {
   "cell_type": "code",
   "execution_count": 17,
   "metadata": {},
   "outputs": [],
   "source": [
    "def targets_from_sequence(sequence, context_size):\n",
    "  \"\"\"\n",
    "  Constructs n times X, y training data from a sequence. X being our\n",
    "  context_size input,  y the target, and n the amount of targets created from a\n",
    "  sequence (should be equal to len(sequence) - 1, since every word can be a\n",
    "  target except the first)\n",
    "\n",
    "  X is context_size words used to predict context_size + 1 word y\n",
    "\n",
    "  Args:\n",
    "    sequence (array): array of ints, vectorised tokens\n",
    "    context_size (int): length of X for each X, y pair returned\n",
    "  \n",
    "  Returns:\n",
    "    list[(X,y)]: n long list containing tuples of X, y pairs\n",
    "  \"\"\"\n",
    "  target_amount = len(sequence) - 1\n",
    "\n",
    "  # Ensure input in an np.ndarray\n",
    "  sequence = np.array(sequence)\n",
    "\n",
    "  # Result array is a matrix for (n, (X,y))\n",
    "  # n = target_amount, X = context_size, y = 1\n",
    "  result = np.zeros((target_amount, context_size+1))\n",
    "\n",
    "\n",
    "  for i in range(target_amount):\n",
    "    # Get index of context start, unless its negative\n",
    "    idx = i - context_size + 1\n",
    "    context_start = max(0, idx)\n",
    "\n",
    "    # Get sequence and target, ensuring they are arrays\n",
    "    context = sequence[context_start:i+1]\n",
    "    target = np.array(sequence[i+1], ndmin=1)\n",
    "\n",
    "    # If our context is shorter than context size, we will pad context\n",
    "    if context_start == 0:\n",
    "      context = np.pad(context, (0, np.abs(idx)), mode='constant')\n",
    "\n",
    "    result[i,:] = np.concatenate([context, target])\n",
    "    \n",
    "  return result\n",
    "\n",
    "def targets_from_sequences(sequences, context_size):\n",
    "  \"\"\"Calls targets_from_sequences() on a list of sequences\"\"\"\n",
    "  result = None\n",
    "  for sequence in sequences:\n",
    "    targets = targets_from_sequence(sequence, context_size)\n",
    "    result = np.concatenate([result, targets]) if result is not None else targets\n",
    "  return result\n"
   ]
  },
  {
   "cell_type": "code",
   "execution_count": null,
   "metadata": {},
   "outputs": [],
   "source": [
    "train_data = targets_from_sequences(train_sequences)\n",
    "val_data = targets_from_sequences(val_sequences)"
   ]
  },
  {
   "cell_type": "code",
   "execution_count": 19,
   "metadata": {},
   "outputs": [],
   "source": [
    "val_data = targets_from_sequences(val_sequences, 64)"
   ]
  },
  {
   "cell_type": "code",
   "execution_count": 20,
   "metadata": {},
   "outputs": [
    {
     "data": {
      "text/plain": [
       "array([[ 97.,   0.,   0., ...,   0.,   0., 401.],\n",
       "       [ 97., 401.,   0., ...,   0.,   0., 124.],\n",
       "       [ 97., 401., 124., ...,   0.,   0., 133.],\n",
       "       ...,\n",
       "       [ 38.,   1.,  20., ..., 811., 288., 704.],\n",
       "       [  1.,  20., 695., ..., 288., 704.,   1.],\n",
       "       [ 20., 695.,  19., ..., 704.,   1.,   7.]])"
      ]
     },
     "execution_count": 20,
     "metadata": {},
     "output_type": "execute_result"
    }
   ],
   "source": [
    "val_data"
   ]
  }
 ],
 "metadata": {
  "kernelspec": {
   "display_name": "scratchnn",
   "language": "python",
   "name": "python3"
  },
  "language_info": {
   "codemirror_mode": {
    "name": "ipython",
    "version": 3
   },
   "file_extension": ".py",
   "mimetype": "text/x-python",
   "name": "python",
   "nbconvert_exporter": "python",
   "pygments_lexer": "ipython3",
   "version": "3.9.20"
  }
 },
 "nbformat": 4,
 "nbformat_minor": 2
}
